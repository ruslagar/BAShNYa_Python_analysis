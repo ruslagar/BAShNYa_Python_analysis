{
 "cells": [
  {
   "cell_type": "markdown",
   "id": "6748409c-509a-4e95-a5c6-1a20720673a1",
   "metadata": {},
   "source": [
    "# Задание 2\n",
    "### Домашнее задание (базовое)\n",
    "\n",
    "**Задача**: С помощью библиотеки `requests` и `BeautifulSoup` (bs4) извлечь со страницы Википедии термин и его определение.  \n",
    "[Источник](https://ru.wikipedia.org/wiki/%D0%91%D0%B0%D1%88%D0%BD%D1%8F).\n",
    "\n",
    "**Условие**:\n",
    "- Нужно спарсить термин и его определение с указанной страницы и вывести их в виде текста.\n",
    "\n",
    "Выполнил: Гараев Руслан [@ruslagar](https://t.me/ruslagar)"
   ]
  },
  {
   "cell_type": "code",
   "execution_count": 6,
   "id": "24e97bda-2b63-4b0d-873b-6f8aa38e2325",
   "metadata": {},
   "outputs": [
    {
     "name": "stdout",
     "output_type": "stream",
     "text": [
      "Термин: Башня\n",
      "Определение: Ба́шня — инженерное сооружение, отличающееся значительным преобладанием высоты над стороной или диаметром основания. Башни могут быть отдельно стоящими или соединёнными с другим зданием или стеной. Ствол башни может быть сплошным (у каменных и железобетонных конструкций) или сквозным, а в сечении круглым, квадратным, многоугольным, встречаются также сечения других форм.\n",
      "\n"
     ]
    }
   ],
   "source": [
    "import requests\n",
    "from bs4 import BeautifulSoup\n",
    "\n",
    "# URL страницы Википедии\n",
    "url = 'https://ru.wikipedia.org/wiki/%D0%91%D0%B0%D1%88%D0%BD%D1%8F'\n",
    "\n",
    "# Выполнение GET запроса\n",
    "response = requests.get(url)\n",
    "\n",
    "# Проверка статуса запроса\n",
    "if response.status_code == 200:\n",
    "    # Парсинг HTML-кода страницы\n",
    "    soup = BeautifulSoup(response.text, 'html.parser')\n",
    "\n",
    "    # Извлечение заголовка первого уровня\n",
    "    title = soup.find('h1', {'id': 'firstHeading'}).text\n",
    "\n",
    "    # Извлечение определения. Определение -- первый абзац после заголовка\n",
    "    definition_text = soup.find('div', {'class': 'mw-parser-output'}).find('p')\n",
    "\n",
    "    # Проверка нужна, чтобы избежать конфликта с типом данных\n",
    "    if definition_text:\n",
    "    # Удаляем примечания (теги <sup> с классом \"reference\")\n",
    "        for sup in definition_text.find_all('sup', {'class': 'reference'}):\n",
    "            sup.decompose()  # Удаляем тег <sup>\n",
    "\n",
    "    # Извлекаем текст без примечаний\n",
    "    definition = definition_text.text\n",
    "\n",
    "    # Печать термина и определения\n",
    "    print(f\"Термин: {title}\")\n",
    "    print(f\"Определение: {definition}\")\n",
    "else:\n",
    "    print(f\"Failed to retrieve the webpage. Status code: {response.status_code}\")"
   ]
  },
  {
   "cell_type": "markdown",
   "id": "f289dfe9-b7ed-4a4f-9eba-833cbb3fd66d",
   "metadata": {},
   "source": [
    "# Результат работы программы:\n",
    "\n",
    "### Термин\n",
    "Башня\n",
    "\n",
    "### Определение\n",
    "Ба́шня — инженерное сооружение, отличающееся значительным преобладанием высоты над стороной или диаметром основания. Башни могут быть отдельно стоящими или соединёнными с другим зданием или стеной. Ствол башни может быть сплошным (у каменных и железобетонных конструкций) или сквозным, а в сечении круглым, квадратным, многоугольным, встречаются также сечения других форм."
   ]
  },
  {
   "cell_type": "code",
   "execution_count": null,
   "id": "e28b0f65-ab37-4dd3-ae96-c42d4d91d5c7",
   "metadata": {},
   "outputs": [],
   "source": []
  }
 ],
 "metadata": {
  "kernelspec": {
   "display_name": "Python 3 (ipykernel)",
   "language": "python",
   "name": "python3"
  },
  "language_info": {
   "codemirror_mode": {
    "name": "ipython",
    "version": 3
   },
   "file_extension": ".py",
   "mimetype": "text/x-python",
   "name": "python",
   "nbconvert_exporter": "python",
   "pygments_lexer": "ipython3",
   "version": "3.12.4"
  }
 },
 "nbformat": 4,
 "nbformat_minor": 5
}
